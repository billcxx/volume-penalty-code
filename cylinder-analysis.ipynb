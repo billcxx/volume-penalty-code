{
 "cells": [
  {
   "cell_type": "markdown",
   "metadata": {},
   "source": [
    "# Oscillating cylinder"
   ]
  },
  {
   "cell_type": "markdown",
   "metadata": {},
   "source": [
    "This notebook will analyze simulations of accelerating flow past an oscillating cylinder, using a no-slip or volume penalized inner boundary.\n",
    "\n",
    "A python script is provided for parallelized simulation."
   ]
  },
  {
   "cell_type": "markdown",
   "metadata": {},
   "source": [
    "# Imports"
   ]
  },
  {
   "cell_type": "code",
   "execution_count": 1,
   "metadata": {},
   "outputs": [],
   "source": [
    "import numpy as np\n",
    "import dedalus.public as de\n",
    "import matplotlib.pyplot as plt\n",
    "import os\n",
    "from scipy.special import erf\n",
    "import time\n",
    "import logging\n",
    "root = logging.root\n",
    "for h in root.handlers: h.setLevel(\"INFO\")\n",
    "logger = logging.getLogger(__name__)\n",
    "\n",
    "from dedalus.tools import post\n",
    "from glob import glob\n",
    "import h5py"
   ]
  },
  {
   "cell_type": "markdown",
   "metadata": {},
   "source": [
    "# Functions"
   ]
  },
  {
   "cell_type": "code",
   "execution_count": 40,
   "metadata": {},
   "outputs": [],
   "source": [
    "def print_group_contents(group):\n",
    "    if isinstance(group, h5py.Group):\n",
    "        print(f\"Group: {group.name}\")\n",
    "        for name, item in group.items():\n",
    "            if isinstance(item, h5py.Group):\n",
    "                print(f\"Subgroup: {name}\")\n",
    "                print_group_contents(item)  # Recursively print contents of subgroups\n",
    "            elif isinstance(item, h5py.Dataset):\n",
    "                print(f\"Dataset: {name}\")\n",
    "    else:\n",
    "        print(\"not a group\")\n",
    "\n",
    "def load_data(filename, *dnames, group='/',show=False,flatten=True,sel=None,checkint=True):\n",
    "    \"\"\"Load list of arrays given names of group in an hdf5 file.\n",
    "    \n",
    "    Parameters\n",
    "    ----------\n",
    "    dnames: list\n",
    "        strings of dataset names\n",
    "    filename: string\n",
    "        file name\n",
    "    group: string, optional\n",
    "        subgroup of hdf5 file to write to\n",
    "    overwrite: boolean, optional\n",
    "    show: boolean, optional\n",
    "    flatten: boolean, optional\n",
    "        return number if single value\n",
    "    sel: slice object, optional\n",
    "        return slice of data array\n",
    "    Returns\n",
    "    -------\n",
    "    List of numpy arrays\n",
    "\n",
    "    \"\"\"\n",
    "\n",
    "    with h5py.File(filename,'r') as f:\n",
    "        arrs = []\n",
    "        g = f[group]\n",
    "        print_group_contents(g)\n",
    "        print(dnames,\"loop through dnames\")\n",
    "        for dname in dnames:\n",
    "            if not sel: sel = Ellipsis\n",
    "            if show: print(dname,sel)  \n",
    "            print_group_contents(g[dname])  \n",
    "            arr = g[dname][sel]\n",
    "            print(arr.shape,arr.dtype,flatten,np.prod(arr.shape),max(arr.shape))\n",
    "            if flatten:\n",
    "                if arr.size == 1: \n",
    "                    arr = arr.item()\n",
    "                elif np.prod(arr.shape) == max(arr.shape): \n",
    "                    print('flattening')\n",
    "                    arr = arr.flatten()  \n",
    "                    print(arr.shape)              \n",
    "                elif arr.shape[0] == 1: \n",
    "                    arr = arr[0,Ellipsis]\n",
    "            if checkint and isinstance(arr,float) and arr.is_integer(): arr = int(arr)\n",
    "            arrs.append(arr)\n",
    "    return arrs\n",
    "\n",
    "def get_keys(filename, group='/'):\n",
    "    \"\"\" Helper to get keys of an hdf5 file/group.\"\"\"\n",
    "    with h5py.File(filename, 'r') as f:\n",
    "        g = f[group]\n",
    "        keys = sorted(list(g.keys()))\n",
    "    return keys\n",
    "\n",
    "# Plotting 2D Polar data\n",
    "def extend_angle(*arrays):\n",
    "    \"\"\"Complete the periodic mesh to remove missing slice in polar pcolormesh.\"\"\"\n",
    "    return [np.concatenate([arr,arr[[0],:]],axis=0) for arr in arrays]\n",
    "\n",
    "def polar_plot(theta2,rr,array,\n",
    "               fig=None,ax=None,savename=False,dpi=200,colorbar=True,\n",
    "               return_plot=False,wrap=True,**kwargs):\n",
    "    \"\"\"Wrapper to create a polar plot of a quantity.\"\"\"\n",
    "    if fig==None: fig, ax = plt.subplots(figsize=(4,6),subplot_kw=dict(projection='polar'))\n",
    "    if wrap: theta2, rr, array = extend_angle(theta2,rr,array)\n",
    "    plot = ax.pcolormesh(theta2,rr,array,**kwargs)\n",
    "    ax.set_xticklabels([])\n",
    "    ax.set_yticklabels([])\n",
    "    if colorbar: plt.colorbar(plot,ax=ax,orientation='horizontal')\n",
    "    if savename: plt.savefig(savename,dpi=dpi,bbox_inches='tight')\n",
    "    if return_plot: return fig, ax, plot\n",
    "    return fig, ax"
   ]
  },
  {
   "cell_type": "markdown",
   "metadata": {},
   "source": [
    "# Analysis and plotting"
   ]
  },
  {
   "cell_type": "code",
   "execution_count": 45,
   "metadata": {},
   "outputs": [
    {
     "name": "stdout",
     "output_type": "stream",
     "text": [
      "2023-12-16 11:26:35,894 post 0/1 INFO :: Merging files from runs/cylinder-penalized/data-cylinder-penalized\n",
      "2023-12-16 11:26:35,907 post 0/1 INFO :: Merging files from runs/cylinder-penalized/force-cylinder-penalized\n",
      "2023-12-16 11:26:35,909 post 0/1 INFO :: Merging files from runs/cylinder-penalized/parameters-cylinder-penalized\n"
     ]
    }
   ],
   "source": [
    "# Merge simulation data\n",
    "sim = 'cylinder-penalized'\n",
    "force_dir, params_dir, data_dir = glob(os.path.join('runs',sim,'*'))\n",
    "\n",
    "for folder in [data_dir, force_dir, params_dir]:\n",
    "    post.merge_analysis(folder,cleanup=True)"
   ]
  },
  {
   "cell_type": "code",
   "execution_count": 44,
   "metadata": {},
   "outputs": [
    {
     "name": "stdout",
     "output_type": "stream",
     "text": [
      "Group: /scales\n",
      "Dataset: (T,T,T)r\n",
      "Dataset: constant\n",
      "Dataset: iteration\n",
      "Dataset: ktheta\n",
      "Dataset: r\n",
      "Dataset: sim_time\n",
      "Dataset: theta\n",
      "Dataset: timestep\n",
      "Dataset: wall_time\n",
      "Dataset: world_time\n",
      "Dataset: write_number\n",
      "('sim_time', 'theta', 'r') loop through dnames\n",
      "sim_time Ellipsis\n",
      "not a group\n",
      "(1001,) float64 True 1001 1001\n",
      "flattening\n",
      "(1001,)\n",
      "theta Ellipsis\n",
      "not a group\n",
      "(0,) float64 True 0 0\n",
      "flattening\n",
      "(0,)\n",
      "r Ellipsis\n",
      "not a group\n",
      "(0,) float64 True 0 0\n",
      "flattening\n",
      "(0,)\n",
      "Group: /tasks\n",
      "Dataset: Fpx\n",
      "Dataset: Fpy\n",
      "Dataset: Fvx\n",
      "Dataset: Fvy\n",
      "Dataset: Tv\n",
      "Dataset: alpha\n",
      "Dataset: omega\n",
      "Dataset: phi\n",
      "('u', 'v', 'p', 'q') loop through dnames\n",
      "u Ellipsis\n"
     ]
    },
    {
     "ename": "KeyError",
     "evalue": "\"Unable to synchronously open object (object 'u' doesn't exist)\"",
     "output_type": "error",
     "traceback": [
      "\u001b[0;31m---------------------------------------------------------------------------\u001b[0m",
      "\u001b[0;31mKeyError\u001b[0m                                  Traceback (most recent call last)",
      "\u001b[1;32m/home/xcheng/code/volume-penalty-code/cylinder-analysis.ipynb Cell 9\u001b[0m line \u001b[0;36m7\n\u001b[1;32m      <a href='vscode-notebook-cell://wsl%2Bubuntu-22.04/home/xcheng/code/volume-penalty-code/cylinder-analysis.ipynb#X11sdnNjb2RlLXJlbW90ZQ%3D%3D?line=3'>4</a>\u001b[0m params_file \u001b[39m=\u001b[39m glob(os\u001b[39m.\u001b[39mpath\u001b[39m.\u001b[39mjoin(params_dir,\u001b[39m'\u001b[39m\u001b[39m*\u001b[39m\u001b[39m'\u001b[39m))[\u001b[39m0\u001b[39m]\n\u001b[1;32m      <a href='vscode-notebook-cell://wsl%2Bubuntu-22.04/home/xcheng/code/volume-penalty-code/cylinder-analysis.ipynb#X11sdnNjb2RlLXJlbW90ZQ%3D%3D?line=5'>6</a>\u001b[0m t, theta, r \u001b[39m=\u001b[39m load_data(data_file,\u001b[39m'\u001b[39m\u001b[39msim_time\u001b[39m\u001b[39m'\u001b[39m,\u001b[39m'\u001b[39m\u001b[39mtheta\u001b[39m\u001b[39m'\u001b[39m,\u001b[39m'\u001b[39m\u001b[39mr\u001b[39m\u001b[39m'\u001b[39m,group\u001b[39m=\u001b[39m\u001b[39m'\u001b[39m\u001b[39mscales\u001b[39m\u001b[39m'\u001b[39m,show\u001b[39m=\u001b[39m\u001b[39mTrue\u001b[39;00m)\n\u001b[0;32m----> <a href='vscode-notebook-cell://wsl%2Bubuntu-22.04/home/xcheng/code/volume-penalty-code/cylinder-analysis.ipynb#X11sdnNjb2RlLXJlbW90ZQ%3D%3D?line=6'>7</a>\u001b[0m us,vs,ps,qs \u001b[39m=\u001b[39m load_data(data_file,\u001b[39m'\u001b[39;49m\u001b[39mu\u001b[39;49m\u001b[39m'\u001b[39;49m,\u001b[39m'\u001b[39;49m\u001b[39mv\u001b[39;49m\u001b[39m'\u001b[39;49m,\u001b[39m'\u001b[39;49m\u001b[39mp\u001b[39;49m\u001b[39m'\u001b[39;49m,\u001b[39m'\u001b[39;49m\u001b[39mq\u001b[39;49m\u001b[39m'\u001b[39;49m,group\u001b[39m=\u001b[39;49m\u001b[39m'\u001b[39;49m\u001b[39mtasks\u001b[39;49m\u001b[39m'\u001b[39;49m,show\u001b[39m=\u001b[39;49m\u001b[39mTrue\u001b[39;49;00m)\n\u001b[1;32m      <a href='vscode-notebook-cell://wsl%2Bubuntu-22.04/home/xcheng/code/volume-penalty-code/cylinder-analysis.ipynb#X11sdnNjb2RlLXJlbW90ZQ%3D%3D?line=7'>8</a>\u001b[0m gamma, \u001b[39m=\u001b[39m load_data(params_file,\u001b[39m'\u001b[39m\u001b[39mgamma\u001b[39m\u001b[39m'\u001b[39m,group\u001b[39m=\u001b[39m\u001b[39m'\u001b[39m\u001b[39mtasks\u001b[39m\u001b[39m'\u001b[39m)\n\u001b[1;32m     <a href='vscode-notebook-cell://wsl%2Bubuntu-22.04/home/xcheng/code/volume-penalty-code/cylinder-analysis.ipynb#X11sdnNjb2RlLXJlbW90ZQ%3D%3D?line=9'>10</a>\u001b[0m theta2 \u001b[39m=\u001b[39m theta[:,\u001b[39mNone\u001b[39;00m] \u001b[39m+\u001b[39m \u001b[39m0\u001b[39m\u001b[39m*\u001b[39mr[\u001b[39mNone\u001b[39;00m,:]\n",
      "\u001b[1;32m/home/xcheng/code/volume-penalty-code/cylinder-analysis.ipynb Cell 9\u001b[0m line \u001b[0;36m4\n\u001b[1;32m     <a href='vscode-notebook-cell://wsl%2Bubuntu-22.04/home/xcheng/code/volume-penalty-code/cylinder-analysis.ipynb#X11sdnNjb2RlLXJlbW90ZQ%3D%3D?line=41'>42</a>\u001b[0m \u001b[39mif\u001b[39;00m \u001b[39mnot\u001b[39;00m sel: sel \u001b[39m=\u001b[39m \u001b[39mEllipsis\u001b[39m\n\u001b[1;32m     <a href='vscode-notebook-cell://wsl%2Bubuntu-22.04/home/xcheng/code/volume-penalty-code/cylinder-analysis.ipynb#X11sdnNjb2RlLXJlbW90ZQ%3D%3D?line=42'>43</a>\u001b[0m \u001b[39mif\u001b[39;00m show: \u001b[39mprint\u001b[39m(dname,sel)  \n\u001b[0;32m---> <a href='vscode-notebook-cell://wsl%2Bubuntu-22.04/home/xcheng/code/volume-penalty-code/cylinder-analysis.ipynb#X11sdnNjb2RlLXJlbW90ZQ%3D%3D?line=43'>44</a>\u001b[0m print_group_contents(g[dname])  \n\u001b[1;32m     <a href='vscode-notebook-cell://wsl%2Bubuntu-22.04/home/xcheng/code/volume-penalty-code/cylinder-analysis.ipynb#X11sdnNjb2RlLXJlbW90ZQ%3D%3D?line=44'>45</a>\u001b[0m arr \u001b[39m=\u001b[39m g[dname][sel]\n\u001b[1;32m     <a href='vscode-notebook-cell://wsl%2Bubuntu-22.04/home/xcheng/code/volume-penalty-code/cylinder-analysis.ipynb#X11sdnNjb2RlLXJlbW90ZQ%3D%3D?line=45'>46</a>\u001b[0m \u001b[39mprint\u001b[39m(arr\u001b[39m.\u001b[39mshape,arr\u001b[39m.\u001b[39mdtype,flatten,np\u001b[39m.\u001b[39mprod(arr\u001b[39m.\u001b[39mshape),\u001b[39mmax\u001b[39m(arr\u001b[39m.\u001b[39mshape))\n",
      "File \u001b[0;32mh5py/_objects.pyx:54\u001b[0m, in \u001b[0;36mh5py._objects.with_phil.wrapper\u001b[0;34m()\u001b[0m\n",
      "File \u001b[0;32mh5py/_objects.pyx:55\u001b[0m, in \u001b[0;36mh5py._objects.with_phil.wrapper\u001b[0;34m()\u001b[0m\n",
      "File \u001b[0;32m~/miniforge3/envs/dedalus2/lib/python3.12/site-packages/h5py/_hl/group.py:357\u001b[0m, in \u001b[0;36mGroup.__getitem__\u001b[0;34m(self, name)\u001b[0m\n\u001b[1;32m    355\u001b[0m         \u001b[39mraise\u001b[39;00m \u001b[39mValueError\u001b[39;00m(\u001b[39m\"\u001b[39m\u001b[39mInvalid HDF5 object reference\u001b[39m\u001b[39m\"\u001b[39m)\n\u001b[1;32m    356\u001b[0m \u001b[39melif\u001b[39;00m \u001b[39misinstance\u001b[39m(name, (\u001b[39mbytes\u001b[39m, \u001b[39mstr\u001b[39m)):\n\u001b[0;32m--> 357\u001b[0m     oid \u001b[39m=\u001b[39m h5o\u001b[39m.\u001b[39;49mopen(\u001b[39mself\u001b[39;49m\u001b[39m.\u001b[39;49mid, \u001b[39mself\u001b[39;49m\u001b[39m.\u001b[39;49m_e(name), lapl\u001b[39m=\u001b[39;49m\u001b[39mself\u001b[39;49m\u001b[39m.\u001b[39;49m_lapl)\n\u001b[1;32m    358\u001b[0m \u001b[39melse\u001b[39;00m:\n\u001b[1;32m    359\u001b[0m     \u001b[39mraise\u001b[39;00m \u001b[39mTypeError\u001b[39;00m(\u001b[39m\"\u001b[39m\u001b[39mAccessing a group is done with bytes or str, \u001b[39m\u001b[39m\"\u001b[39m\n\u001b[1;32m    360\u001b[0m                     \u001b[39m\"\u001b[39m\u001b[39mnot \u001b[39m\u001b[39m{}\u001b[39;00m\u001b[39m\"\u001b[39m\u001b[39m.\u001b[39mformat(\u001b[39mtype\u001b[39m(name)))\n",
      "File \u001b[0;32mh5py/_objects.pyx:54\u001b[0m, in \u001b[0;36mh5py._objects.with_phil.wrapper\u001b[0;34m()\u001b[0m\n",
      "File \u001b[0;32mh5py/_objects.pyx:55\u001b[0m, in \u001b[0;36mh5py._objects.with_phil.wrapper\u001b[0;34m()\u001b[0m\n",
      "File \u001b[0;32mh5py/h5o.pyx:189\u001b[0m, in \u001b[0;36mh5py.h5o.open\u001b[0;34m()\u001b[0m\n",
      "\u001b[0;31mKeyError\u001b[0m: \"Unable to synchronously open object (object 'u' doesn't exist)\""
     ]
    }
   ],
   "source": [
    "# Load simulation data\n",
    "data_file = glob(os.path.join(data_dir,'*'))[0]\n",
    "force_file = glob(os.path.join(force_dir,'*'))[0]\n",
    "params_file = glob(os.path.join(params_dir,'*'))[0]\n",
    "\n",
    "t, theta, r = load_data(data_file,'sim_time','theta/1.0','r/1.0',group='scales',show=True)\n",
    "us,vs,ps,qs = load_data(data_file,'u','v','p','q',group='tasks',show=True)\n",
    "gamma, = load_data(params_file,'gamma',group='tasks')\n",
    "\n",
    "theta2 = theta[:,None] + 0*r[None,:]\n",
    "rr = 0*theta[:,None] + r[None,:]"
   ]
  },
  {
   "cell_type": "code",
   "execution_count": null,
   "metadata": {},
   "outputs": [],
   "source": [
    "# Mask function\n",
    "polar_plot(theta2,rr,gamma,cmap='Greys',vmin=0,vmax=1)"
   ]
  },
  {
   "cell_type": "code",
   "execution_count": null,
   "metadata": {},
   "outputs": [],
   "source": [
    "# True vorticity\n",
    "polar_plot(theta2,rr,qs[-1]/rr,cmap='PuOr',vmax=5,vmin=-5)"
   ]
  },
  {
   "cell_type": "code",
   "execution_count": null,
   "metadata": {},
   "outputs": [],
   "source": [
    "# True pressure\n",
    "polar_plot(theta2,rr,ps[-1] - 0.5*(us[-1]**2 + vs[-1]**2),\n",
    "           cmap='viridis',vmin=-2,vmax=1)"
   ]
  }
 ],
 "metadata": {
  "kernelspec": {
   "display_name": "Python 3",
   "language": "python",
   "name": "python3"
  },
  "language_info": {
   "codemirror_mode": {
    "name": "ipython",
    "version": 3
   },
   "file_extension": ".py",
   "mimetype": "text/x-python",
   "name": "python",
   "nbconvert_exporter": "python",
   "pygments_lexer": "ipython3",
   "version": "3.12.0"
  },
  "toc": {
   "nav_menu": {},
   "number_sections": true,
   "sideBar": true,
   "skip_h1_title": false,
   "title_cell": "Table of Contents",
   "title_sidebar": "Contents",
   "toc_cell": false,
   "toc_position": {
    "height": "calc(100% - 180px)",
    "left": "10px",
    "top": "150px",
    "width": "165px"
   },
   "toc_section_display": true,
   "toc_window_display": false
  },
  "varInspector": {
   "cols": {
    "lenName": 16,
    "lenType": 16,
    "lenVar": 40
   },
   "kernels_config": {
    "python": {
     "delete_cmd_postfix": "",
     "delete_cmd_prefix": "del ",
     "library": "var_list.py",
     "varRefreshCmd": "print(var_dic_list())"
    },
    "r": {
     "delete_cmd_postfix": ") ",
     "delete_cmd_prefix": "rm(",
     "library": "var_list.r",
     "varRefreshCmd": "cat(var_dic_list()) "
    }
   },
   "types_to_exclude": [
    "module",
    "function",
    "builtin_function_or_method",
    "instance",
    "_Feature"
   ],
   "window_display": false
  }
 },
 "nbformat": 4,
 "nbformat_minor": 2
}
