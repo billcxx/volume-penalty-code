{
 "cells": [
  {
   "cell_type": "markdown",
   "metadata": {},
   "source": [
    "# Oscillating cylinder"
   ]
  },
  {
   "cell_type": "markdown",
   "metadata": {},
   "source": [
    "This notebook will analyze simulations of accelerating flow past an oscillating cylinder, using a no-slip or volume penalized inner boundary.\n",
    "\n",
    "A python script is provided for parallelized simulation."
   ]
  },
  {
   "cell_type": "markdown",
   "metadata": {},
   "source": [
    "# Imports"
   ]
  },
  {
   "cell_type": "code",
   "execution_count": null,
   "metadata": {},
   "outputs": [],
   "source": [
    "import numpy as np\n",
    "import dedalus.public as de\n",
    "import matplotlib.pyplot as plt\n",
    "import os\n",
    "from scipy.special import erf\n",
    "import time\n",
    "import logging\n",
    "root = logging.root\n",
    "for h in root.handlers: h.setLevel(\"INFO\")\n",
    "logger = logging.getLogger(__name__)\n",
    "\n",
    "from dedalus.tools import post\n",
    "from glob import glob\n",
    "import h5py"
   ]
  },
  {
   "cell_type": "markdown",
   "metadata": {},
   "source": [
    "# Functions"
   ]
  },
  {
   "cell_type": "code",
   "execution_count": null,
   "metadata": {},
   "outputs": [],
   "source": [
    "def load_data(filename, *dnames, group='/',show=False,flatten=True,sel=None,checkint=True):\n",
    "    \"\"\"Load list of arrays given names of group in an hdf5 file.\n",
    "    \n",
    "    Parameters\n",
    "    ----------\n",
    "    dnames: list\n",
    "        strings of dataset names\n",
    "    filename: string\n",
    "        file name\n",
    "    group: string, optional\n",
    "        subgroup of hdf5 file to write to\n",
    "    overwrite: boolean, optional\n",
    "    show: boolean, optional\n",
    "    flatten: boolean, optional\n",
    "        return number if single value\n",
    "    sel: slice object, optional\n",
    "        return slice of data array\n",
    "    Returns\n",
    "    -------\n",
    "    List of numpy arrays\n",
    "\n",
    "    \"\"\"\n",
    "\n",
    "    with h5py.File(filename,'r') as f:\n",
    "        arrs = []\n",
    "        g = f[group]\n",
    "        for dname in dnames:\n",
    "            if show: print(dname)    \n",
    "            if not sel: sel = Ellipsis\n",
    "            arr = g[dname][sel]\n",
    "            if flatten:\n",
    "                if arr.size == 1: arr = arr.item()\n",
    "                elif np.prod(arr.shape) == max(arr.shape): arr = arr.flatten()                \n",
    "                elif arr.shape[0] == 1: arr = arr[0,Ellipsis]\n",
    "            if checkint and isinstance(arr,float) and arr.is_integer(): arr = int(arr)\n",
    "            arrs.append(arr)\n",
    "    return arrs\n",
    "\n",
    "def get_keys(filename, group='/'):\n",
    "    \"\"\" Helper to get keys of an hdf5 file/group.\"\"\"\n",
    "    with h5py.File(filename, 'r') as f:\n",
    "        g = f[group]\n",
    "        keys = sorted(list(g.keys()))\n",
    "    return keys\n",
    "\n",
    "# Plotting 2D Polar data\n",
    "def extend_angle(*arrays):\n",
    "    \"\"\"Complete the periodic mesh to remove missing slice in polar pcolormesh.\"\"\"\n",
    "    return [np.concatenate([arr,arr[[0],:]],axis=0) for arr in arrays]\n",
    "\n",
    "def polar_plot(θθ,rr,array,\n",
    "               fig=None,ax=None,savename=False,dpi=200,colorbar=True,\n",
    "               return_plot=False,wrap=True,**kwargs):\n",
    "    \"\"\"Wrapper to create a polar plot of a quantity.\"\"\"\n",
    "    if fig==None: fig, ax = plt.subplots(figsize=(4,6),subplot_kw=dict(projection='polar'))\n",
    "    if wrap: θθ, rr, array = extend_angle(θθ,rr,array)\n",
    "    plot = ax.pcolormesh(θθ,rr,array,**kwargs)\n",
    "    ax.set_xticklabels([])\n",
    "    ax.set_yticklabels([])\n",
    "    if colorbar: plt.colorbar(plot,ax=ax,orientation='horizontal')\n",
    "    if savename: plt.savefig(savename,dpi=dpi,bbox_inches='tight')\n",
    "    if return_plot: return fig, ax, plot\n",
    "    return fig, ax    "
   ]
  },
  {
   "cell_type": "markdown",
   "metadata": {},
   "source": [
    "# Analysis and plotting"
   ]
  },
  {
   "cell_type": "code",
   "execution_count": null,
   "metadata": {},
   "outputs": [],
   "source": [
    "# Merge simulation data\n",
    "sim = 'cylinder-penalized'\n",
    "data_dir, force_dir, params_dir = glob(os.path.join('runs',sim,'*'))\n",
    "\n",
    "for folder in [data_dir, force_dir, params_dir]:\n",
    "    post.merge_analysis(folder,cleanup=True)"
   ]
  },
  {
   "cell_type": "code",
   "execution_count": null,
   "metadata": {},
   "outputs": [],
   "source": [
    "# Load simulation data\n",
    "data_file = glob(os.path.join(data_dir,'*'))[0]\n",
    "force_file = glob(os.path.join(force_dir,'*'))[0]\n",
    "params_file = glob(os.path.join(params_dir,'*'))[0]\n",
    "\n",
    "t, θ, r = load_data(data_file,'sim_time','θ/1.0','r/1.0',group='scales')\n",
    "us,vs,ps,qs = load_data(data_file,'u','v','p','q',group='tasks')\n",
    "Γ, = load_data(params_file,'Γ',group='tasks')\n",
    "\n",
    "θθ = θ[:,None] + 0*r[None,:]\n",
    "rr = 0*θ[:,None] + r[None,:]"
   ]
  },
  {
   "cell_type": "code",
   "execution_count": null,
   "metadata": {},
   "outputs": [],
   "source": [
    "# Mask function\n",
    "polar_plot(θθ,rr,Γ,cmap='Greys',vmin=0,vmax=1)"
   ]
  },
  {
   "cell_type": "code",
   "execution_count": null,
   "metadata": {},
   "outputs": [],
   "source": [
    "# True vorticity\n",
    "polar_plot(θθ,rr,qs[-1]/rr,cmap='PuOr',vmax=5,vmin=-5)"
   ]
  },
  {
   "cell_type": "code",
   "execution_count": null,
   "metadata": {},
   "outputs": [],
   "source": [
    "# True pressure\n",
    "polar_plot(θθ,rr,ps[-1] - 0.5*(us[-1]**2 + vs[-1]**2),\n",
    "           cmap='viridis',vmin=-2,vmax=1)"
   ]
  }
 ],
 "metadata": {
  "kernelspec": {
   "display_name": "Python 3",
   "language": "python",
   "name": "python3"
  },
  "language_info": {
   "codemirror_mode": {
    "name": "ipython",
    "version": 3
   },
   "file_extension": ".py",
   "mimetype": "text/x-python",
   "name": "python",
   "nbconvert_exporter": "python",
   "pygments_lexer": "ipython3",
   "version": "3.7.2"
  },
  "toc": {
   "nav_menu": {},
   "number_sections": true,
   "sideBar": true,
   "skip_h1_title": false,
   "title_cell": "Table of Contents",
   "title_sidebar": "Contents",
   "toc_cell": false,
   "toc_position": {
    "height": "calc(100% - 180px)",
    "left": "10px",
    "top": "150px",
    "width": "165px"
   },
   "toc_section_display": true,
   "toc_window_display": false
  },
  "varInspector": {
   "cols": {
    "lenName": 16,
    "lenType": 16,
    "lenVar": 40
   },
   "kernels_config": {
    "python": {
     "delete_cmd_postfix": "",
     "delete_cmd_prefix": "del ",
     "library": "var_list.py",
     "varRefreshCmd": "print(var_dic_list())"
    },
    "r": {
     "delete_cmd_postfix": ") ",
     "delete_cmd_prefix": "rm(",
     "library": "var_list.r",
     "varRefreshCmd": "cat(var_dic_list()) "
    }
   },
   "types_to_exclude": [
    "module",
    "function",
    "builtin_function_or_method",
    "instance",
    "_Feature"
   ],
   "window_display": false
  }
 },
 "nbformat": 4,
 "nbformat_minor": 2
}
