{
 "cells": [
  {
   "cell_type": "markdown",
   "metadata": {},
   "source": [
    "# Inner problem"
   ]
  },
  {
   "cell_type": "markdown",
   "metadata": {},
   "source": [
    "This notebook will use Dedalus to create a minimal working example of the solution to the inner problem:\n",
    "\\begin{align}\n",
    "(\\Gamma - \\partial_{x}^2) u &= 0\n",
    "\\end{align}\n",
    "where the penalty mask $\\Gamma$ satisfies\n",
    "\\begin{align}\n",
    "x &\\to +\\infty & \\Gamma &\\to 0\\\\\n",
    "x &\\to -\\infty & \\Gamma &\\to 1\n",
    "\\end{align}\n",
    "and the physical solution $u$ satisfies\n",
    "\\begin{align}\n",
    "x &\\to +\\infty & \\partial_x u &\\to 1\\\\\n",
    "x &\\to -\\infty & u &\\to 0\n",
    "\\end{align}"
   ]
  },
  {
   "cell_type": "markdown",
   "metadata": {},
   "source": [
    "# Imports"
   ]
  },
  {
   "cell_type": "code",
   "execution_count": null,
   "metadata": {},
   "outputs": [],
   "source": [
    "import numpy as np\n",
    "import matplotlib.pyplot as plt\n",
    "import dedalus.public as de\n",
    "\n",
    "from matplotlib import rc\n",
    "rc('font',**{'family':'serif','serif':['Computer Modern Roman']})\n",
    "rc('text', usetex=True)"
   ]
  },
  {
   "cell_type": "markdown",
   "metadata": {},
   "source": [
    "# Standard discontinuous mask"
   ]
  },
  {
   "cell_type": "markdown",
   "metadata": {},
   "source": [
    "We will solve the problem numerically for a standard discontinuous mask, with finite boundary conditions at distance 10. We enforce Robin boundary conditions within the solid to match onto the analytical exponential behaviour.\n",
    "\n",
    "One can change the mask function to calculate different solutions.\n",
    "Masks chosen according to the optimal criterion will achieve zero displacement from the reference solution $u_0 = x$.\n",
    "It is important to align the numerical grid with discontinuities in the mask function"
   ]
  },
  {
   "cell_type": "code",
   "execution_count": null,
   "metadata": {},
   "outputs": [],
   "source": [
    "def mask(x): return 1.0*(x<0)"
   ]
  },
  {
   "cell_type": "code",
   "execution_count": null,
   "metadata": {},
   "outputs": [],
   "source": [
    "# Calculate penalized solution\n",
    "Nx = [128,128]\n",
    "\n",
    "xb0 = de.Chebyshev('x0',Nx[0],interval=(-10,0))\n",
    "xb1 = de.Chebyshev('x1',Nx[1],interval=(0,10))\n",
    "xbasis = de.Compound('x',[xb0,xb1])\n",
    "domain = de.Domain([xbasis], grid_dtype=np.float64)\n",
    "x = xbasis.grid(*domain.dealias)\n",
    "\n",
    "Γ = domain.new_field(name='Γ',scales=domain.dealias)\n",
    "Γ['g'] = mask(x)\n",
    "\n",
    "inner = de.LBVP(domain, variables=['u','ux'])\n",
    "inner.meta[:]['x']['dirichlet'] = True\n",
    "inner.parameters['Γ'] = Γ\n",
    "inner.add_equation(\"dx(ux) - Γ*u = 0\")\n",
    "inner.add_equation(\"ux - dx(u) = 0\")\n",
    "inner.add_bc(\"left(ux) - left(u) = 0\")\n",
    "inner.add_bc(\"right(ux) = 1\")\n",
    "\n",
    "inner_solver = inner.build_solver()\n",
    "inner_solver.solve()\n",
    "\n",
    "u, ux = inner_solver.state['u'], inner_solver.state['ux']"
   ]
  },
  {
   "cell_type": "code",
   "execution_count": null,
   "metadata": {},
   "outputs": [],
   "source": [
    "# Plot penalized and reference solution \n",
    "fig, ax = plt.subplots()\n",
    "ax.plot(x,u['g'],label='Penalized')\n",
    "ax.plot(x[x>0],x[x>0],'k--',label='Reference')\n",
    "ax.fill_between(x[x<0],0,10,color='lightgray')\n",
    "ax.set(aspect=1,xlim=[-10,10],ylim=[0,10],xlabel='$x$',ylabel='$u$')\n",
    "ax.spines['top'].set_visible(False)\n",
    "ax.spines['right'].set_visible(False)\n",
    "ax.legend()"
   ]
  }
 ],
 "metadata": {
  "kernelspec": {
   "display_name": "Python 3",
   "language": "python",
   "name": "python3"
  },
  "language_info": {
   "codemirror_mode": {
    "name": "ipython",
    "version": 3
   },
   "file_extension": ".py",
   "mimetype": "text/x-python",
   "name": "python",
   "nbconvert_exporter": "python",
   "pygments_lexer": "ipython3",
   "version": "3.7.2"
  },
  "toc": {
   "nav_menu": {},
   "number_sections": true,
   "sideBar": true,
   "skip_h1_title": false,
   "title_cell": "Table of Contents",
   "title_sidebar": "Contents",
   "toc_cell": false,
   "toc_position": {},
   "toc_section_display": true,
   "toc_window_display": false
  },
  "varInspector": {
   "cols": {
    "lenName": 16,
    "lenType": 16,
    "lenVar": 40
   },
   "kernels_config": {
    "python": {
     "delete_cmd_postfix": "",
     "delete_cmd_prefix": "del ",
     "library": "var_list.py",
     "varRefreshCmd": "print(var_dic_list())"
    },
    "r": {
     "delete_cmd_postfix": ") ",
     "delete_cmd_prefix": "rm(",
     "library": "var_list.r",
     "varRefreshCmd": "cat(var_dic_list()) "
    }
   },
   "types_to_exclude": [
    "module",
    "function",
    "builtin_function_or_method",
    "instance",
    "_Feature"
   ],
   "window_display": false
  }
 },
 "nbformat": 4,
 "nbformat_minor": 2
}
