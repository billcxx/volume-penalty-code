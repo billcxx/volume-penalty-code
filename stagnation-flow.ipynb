{
 "cells": [
  {
   "cell_type": "markdown",
   "metadata": {},
   "source": [
    "# Stagnation flow"
   ]
  },
  {
   "cell_type": "markdown",
   "metadata": {},
   "source": [
    "This notebook will use Dedalus to create a minimal working example of the solution to viscous flow past a stagnation point, and the volume penalized approximation\n",
    "\n",
    "\\begin{align}\n",
    "(\\partial_{x} u)^2 - \\partial_x^2 u \\, u - \\frac{1}{\\text{Re}} \\partial_x^3 u -  \\frac{1}{\\text{Re}\\,\\varepsilon^2}\\Gamma u &= 1\n",
    "\\end{align}\n",
    "\n",
    "where the penalty mask $\\Gamma$ can be chosen by shifting and rescaling optimal masks $\\Gamma^*$\n",
    "\n",
    "\\begin{align}\n",
    "\\Gamma(x) &= \\Gamma^*\\left(\\frac{x - \\varepsilon \\ell}{\\varepsilon \\delta}\\right)\n",
    "\\end{align}\n",
    "\n",
    "and the physical solution $u$ satisfies the boundary conditions\n",
    "\n",
    "\\begin{align}\n",
    "x &= -1 & u &= 0\\\\\n",
    "x &= -1 & \\partial_ x u &= 0\\\\\n",
    "x &\\to +\\infty & \\partial_x u &\\to 1\n",
    "\\end{align}"
   ]
  },
  {
   "cell_type": "markdown",
   "metadata": {},
   "source": [
    "# Imports"
   ]
  },
  {
   "cell_type": "code",
   "execution_count": null,
   "metadata": {},
   "outputs": [],
   "source": [
    "import numpy as np\n",
    "import matplotlib.pyplot as plt\n",
    "import dedalus.public as de\n",
    "\n",
    "from matplotlib import rc\n",
    "rc('font',**{'family':'serif','serif':['Computer Modern Roman']})\n",
    "rc('text', usetex=True)"
   ]
  },
  {
   "cell_type": "markdown",
   "metadata": {},
   "source": [
    "# Ideal no-slip solution "
   ]
  },
  {
   "cell_type": "markdown",
   "metadata": {},
   "source": [
    "We will first solve the problem numerically using true no-slip boundaries"
   ]
  },
  {
   "cell_type": "code",
   "execution_count": null,
   "metadata": {},
   "outputs": [],
   "source": [
    "N = 256\n",
    "Re = 1\n",
    "\n",
    "xbasis = de.Chebyshev('x', N, interval=(0,10), dealias=3/2)\n",
    "domain = de.Domain([xbasis], grid_dtype=np.float64)\n",
    "x0 = xbasis.grid(*domain.dealias)\n",
    "\n",
    "stag = de.NLBVP(domain,variables=['u','ux','uxx'])\n",
    "stag.meta[:]['x']['dirichlet'] = True\n",
    "stag.parameters['Re'] = Re\n",
    "stag.add_equation('dx(u) - ux = 0')\n",
    "stag.add_equation('dx(ux) - uxx = 0')\n",
    "stag.add_equation('dx(uxx)/Re = -1 - uxx*u + ux*ux')\n",
    "stag.add_bc('right(ux) = 1')\n",
    "stag.add_bc('left(u) = 0')\n",
    "stag.add_bc('left(ux) = 0')\n",
    "\n",
    "solver = stag.build_solver()\n",
    "u0, ux0, uxx0 = (solver.state[name] for name in stag.variables)\n",
    "for field in [u0, ux0, uxx0]: field.set_scales(domain.dealias)\n",
    "\n",
    "u0['g'], ux0['g'], uxx0['g'] = x0, 1, 0\n",
    "\n",
    "tolerance = 1e-10\n",
    "pert = solver.perturbations.data\n",
    "pert.fill(1+tolerance)\n",
    "\n",
    "while np.sum(np.abs(pert)) > tolerance:\n",
    "    solver.newton_iteration()"
   ]
  },
  {
   "cell_type": "markdown",
   "metadata": {},
   "source": [
    "# Volume penalized solution "
   ]
  },
  {
   "cell_type": "markdown",
   "metadata": {},
   "source": [
    "We now solve the volume penalized problem."
   ]
  },
  {
   "cell_type": "code",
   "execution_count": null,
   "metadata": {},
   "outputs": [],
   "source": [
    "N = [32,64]\n",
    "Re = 1\n",
    "η = 0.01\n",
    "ϵ = np.sqrt(η/Re)\n",
    "l = ϵ\n",
    "\n",
    "xb0 = de.Chebyshev('x0', N[0], interval=(-1,l), dealias=3/2)\n",
    "xb1 = de.Chebyshev('x1', N[1], interval=(l,5), dealias=3/2)\n",
    "xbasis = de.Compound('x',[xb0,xb1])\n",
    "domain = de.Domain([xbasis], grid_dtype=np.float64)\n",
    "x = xbasis.grid(*domain.dealias)\n",
    "\n",
    "Γ = domain.new_field(scales=domain.dealias)\n",
    "Γ['g'] = 1.*(x<l)\n",
    "\n",
    "stag = de.NLBVP(domain,variables=['u','ux','uxx'])\n",
    "stag.meta[:]['x']['dirichlet'] = True\n",
    "stag.parameters['Re'] = Re\n",
    "stag.parameters['Γ'] = Γ\n",
    "stag.parameters['ε'] = ϵ\n",
    "stag.add_equation('dx(u) - ux = 0')\n",
    "stag.add_equation('dx(ux) - uxx = 0')\n",
    "stag.add_equation('dx(uxx)/Re - (Γ/(Re*ε**2))*ux = - 1 - uxx*u + ux*ux')\n",
    "stag.add_bc('right(ux) = 1')\n",
    "stag.add_bc('left(u) = 0')\n",
    "stag.add_bc('left(ux) = 0')\n",
    "\n",
    "solver = stag.build_solver()\n",
    "u, ux, uxx = (solver.state[name] for name in stag.variables)\n",
    "for field in [u, ux, uxx]: field.set_scales(domain.dealias)\n",
    "\n",
    "u['g'], ux['g'], uxx['g'] = x, 1, 0\n",
    "\n",
    "tolerance = 1e-10\n",
    "pert = solver.perturbations.data\n",
    "pert.fill(1+tolerance)\n",
    "\n",
    "while np.sum(np.abs(pert)) > tolerance:\n",
    "    solver.newton_iteration()"
   ]
  },
  {
   "cell_type": "code",
   "execution_count": null,
   "metadata": {},
   "outputs": [],
   "source": [
    "# Comparison of penalized and reference solutions\n",
    "fig, ax = plt.subplots()\n",
    "ax.plot(x,u['g'],'C2',label='Penalized')\n",
    "ax.plot(x0,u0['g'],'k--',label='Reference')\n",
    "ax.fill_between(x,0,1.5*Γ['g'],color='lightgray')\n",
    "ax.set(aspect=1,xlim=[-1,2],ylim=[0,1.5],yticks=np.arange(5),\n",
    "       xlabel='$x$',ylabel='$u$')\n",
    "ax.spines['right'].set_visible(False)\n",
    "ax.spines['top'].set_visible(False)\n",
    "ax.legend()"
   ]
  }
 ],
 "metadata": {
  "kernelspec": {
   "display_name": "Python 3",
   "language": "python",
   "name": "python3"
  },
  "language_info": {
   "codemirror_mode": {
    "name": "ipython",
    "version": 3
   },
   "file_extension": ".py",
   "mimetype": "text/x-python",
   "name": "python",
   "nbconvert_exporter": "python",
   "pygments_lexer": "ipython3",
   "version": "3.7.2"
  },
  "toc": {
   "nav_menu": {},
   "number_sections": true,
   "sideBar": true,
   "skip_h1_title": false,
   "title_cell": "Table of Contents",
   "title_sidebar": "Contents",
   "toc_cell": false,
   "toc_position": {},
   "toc_section_display": true,
   "toc_window_display": false
  },
  "varInspector": {
   "cols": {
    "lenName": 16,
    "lenType": 16,
    "lenVar": 40
   },
   "kernels_config": {
    "python": {
     "delete_cmd_postfix": "",
     "delete_cmd_prefix": "del ",
     "library": "var_list.py",
     "varRefreshCmd": "print(var_dic_list())"
    },
    "r": {
     "delete_cmd_postfix": ") ",
     "delete_cmd_prefix": "rm(",
     "library": "var_list.r",
     "varRefreshCmd": "cat(var_dic_list()) "
    }
   },
   "types_to_exclude": [
    "module",
    "function",
    "builtin_function_or_method",
    "instance",
    "_Feature"
   ],
   "window_display": false
  }
 },
 "nbformat": 4,
 "nbformat_minor": 2
}
