{
 "cells": [
  {
   "cell_type": "markdown",
   "metadata": {},
   "source": [
    "# Riccati transformed inner problem"
   ]
  },
  {
   "cell_type": "markdown",
   "metadata": {},
   "source": [
    "This notebook will illustrate how to use solve the Riccati transformation of the inner problem to determine optimal shift $\\ell$ and smoothing $\\delta$ parameters for normalized mask functions $\\Gamma$.\n",
    "\n",
    "Specifically, for a normalized mask function with support $-c < x < c$, we solve the Riccati equation\n",
    "\n",
    "$$ R' + R^2 = \\delta^2 \\Gamma,$$\n",
    "\n",
    "with initial condition\n",
    "\n",
    "$$ R(-c) = \\delta,$$\n",
    "\n",
    "to find the optimal shift $\\ell^*$ as\n",
    "\n",
    "$$\\ell^*(\\delta) = \\left(\\frac{1}{R(c)} - c\\right) \\delta.$$\n",
    "\n",
    "We will solve this problem numerically using python for a compact error function mask.\n",
    "\n",
    "It is possible to apply Newton iteration to the equation to efficiently determine the optimal smoothing that requires zero shift. This is done by differentiating the equations with respect to the parameter $\\delta$."
   ]
  },
  {
   "cell_type": "markdown",
   "metadata": {},
   "source": [
    "# Imports"
   ]
  },
  {
   "cell_type": "code",
   "execution_count": null,
   "metadata": {},
   "outputs": [],
   "source": [
    "import numpy as np\n",
    "import scipy.integrate as spint\n",
    "from scipy.special import erf\n",
    "import matplotlib.pyplot as plt"
   ]
  },
  {
   "cell_type": "code",
   "execution_count": null,
   "metadata": {},
   "outputs": [],
   "source": [
    "from matplotlib import rc\n",
    "rc('font',**{'family':'serif','serif':['Computer Modern Roman']})\n",
    "rc('text', usetex=True)"
   ]
  },
  {
   "cell_type": "markdown",
   "metadata": {},
   "source": [
    "# Optimal shift"
   ]
  },
  {
   "cell_type": "code",
   "execution_count": null,
   "metadata": {},
   "outputs": [],
   "source": [
    "def Γ(z):\n",
    "    \"\"\"Define the normalized mask function you want.\"\"\"\n",
    "    return 0.5*(1-erf(np.sqrt(np.pi)*z/np.sqrt(1-z**2)))"
   ]
  },
  {
   "cell_type": "code",
   "execution_count": null,
   "metadata": {},
   "outputs": [],
   "source": [
    "def Xt(X, t, δ, Γ):\n",
    "    \"\"\"The derivative for the coupled Riccati equations.\"\"\"\n",
    "    return np.array([-X[0]**2 + δ**2*Γ(t), \n",
    "                   -2*X[1]*X[0] + 2*δ*Γ(t)])"
   ]
  },
  {
   "cell_type": "code",
   "execution_count": null,
   "metadata": {},
   "outputs": [],
   "source": [
    "def solve_riccati(δ,Γ,ts=[-1,1]):\n",
    "    \"\"\"Solve the Riccati equation with mask K and damping scaling κ.\"\"\"\n",
    "    X0 = np.array([δ,1.])\n",
    "    Xs = spint.odeint(Xt, X0, ts, tcrit=[-1,1],args=(δ,Γ))\n",
    "    return Xs"
   ]
  },
  {
   "cell_type": "code",
   "execution_count": null,
   "metadata": {},
   "outputs": [],
   "source": [
    "def shift(δ,Γ,ϵ=1e-16):\n",
    "    \"\"\"Calculate required shift given mask K and damping scaling κ.\"\"\"\n",
    "    R1, dR1 = solve_riccati(δ,Γ)[-1,:]\n",
    "    return 1/R1 - 1, -dR1/R1**2"
   ]
  },
  {
   "cell_type": "code",
   "execution_count": null,
   "metadata": {},
   "outputs": [],
   "source": [
    "shift(3.14,Γ)"
   ]
  },
  {
   "cell_type": "code",
   "execution_count": null,
   "metadata": {},
   "outputs": [],
   "source": [
    "def ideal_shift(Γ,δ0,tol=1e-10,maxits=100):\n",
    "    \"\"\"Use Newton iteration to determine zero-shift smoothing δ.\"\"\"\n",
    "    δ,dδ = np.array([δ0]), np.array([1.])\n",
    "    diff, its = 1, 0\n",
    "    while diff > tol and its < maxits:\n",
    "        li, dli = shift(δ[-1],Γ)\n",
    "        diff, its = - li/dli, its+1\n",
    "        δ, dδ = np.append(δ,δ[-1]+diff), np.append(dδ,diff)\n",
    "    return δ, dδ"
   ]
  },
  {
   "cell_type": "code",
   "execution_count": null,
   "metadata": {},
   "outputs": [],
   "source": [
    "ideal_shift(Γ,1)"
   ]
  }
 ],
 "metadata": {
  "kernelspec": {
   "display_name": "Python 3",
   "language": "python",
   "name": "python3"
  },
  "language_info": {
   "codemirror_mode": {
    "name": "ipython",
    "version": 3
   },
   "file_extension": ".py",
   "mimetype": "text/x-python",
   "name": "python",
   "nbconvert_exporter": "python",
   "pygments_lexer": "ipython3",
   "version": "3.7.2"
  },
  "toc": {
   "nav_menu": {
    "height": "12px",
    "width": "252px"
   },
   "number_sections": true,
   "sideBar": true,
   "skip_h1_title": false,
   "title_cell": "Table of Contents",
   "title_sidebar": "Contents",
   "toc_cell": false,
   "toc_position": {},
   "toc_section_display": "block",
   "toc_window_display": false
  },
  "varInspector": {
   "cols": {
    "lenName": 16,
    "lenType": 16,
    "lenVar": 40
   },
   "kernels_config": {
    "python": {
     "delete_cmd_postfix": "",
     "delete_cmd_prefix": "del ",
     "library": "var_list.py",
     "varRefreshCmd": "print(var_dic_list())"
    },
    "r": {
     "delete_cmd_postfix": ") ",
     "delete_cmd_prefix": "rm(",
     "library": "var_list.r",
     "varRefreshCmd": "cat(var_dic_list()) "
    }
   },
   "types_to_exclude": [
    "module",
    "function",
    "builtin_function_or_method",
    "instance",
    "_Feature"
   ],
   "window_display": false
  }
 },
 "nbformat": 4,
 "nbformat_minor": 2
}
